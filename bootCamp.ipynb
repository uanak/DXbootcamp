{
  "nbformat": 4,
  "nbformat_minor": 0,
  "metadata": {
    "colab": {
      "name": "bootCamp.ipynb",
      "provenance": [],
      "collapsed_sections": [],
      "authorship_tag": "ABX9TyPnz9yYGNe3SmQyw5MrS7b3",
      "include_colab_link": true
    },
    "kernelspec": {
      "name": "python3",
      "display_name": "Python 3"
    }
  },
  "cells": [
    {
      "cell_type": "markdown",
      "metadata": {
        "id": "view-in-github",
        "colab_type": "text"
      },
      "source": [
        "<a href=\"https://colab.research.google.com/github/uanak/DXbootcamp/blob/main/bootCamp.ipynb\" target=\"_parent\"><img src=\"https://colab.research.google.com/assets/colab-badge.svg\" alt=\"Open In Colab\"/></a>"
      ]
    },
    {
      "cell_type": "markdown",
      "metadata": {
        "id": "U0Q_DUOe42oO"
      },
      "source": [
        "各種インストール\n",
        "mecab(要素解析）,pytorch,kmeans（クラスタ）"
      ]
    },
    {
      "cell_type": "code",
      "metadata": {
        "id": "3tIWqUETfXad"
      },
      "source": [
        "!apt install aptitude\n",
        "!aptitude install mecab libmecab-dev mecab-ipadic-utf8 git make curl xz-utils file -y\n",
        "!pip install mecab-python3==0.7\n",
        "!pip install -U torch torchvision\n",
        "!pip install kmeans-pytorch\n",
        "\n",
        "import MeCab\n",
        "import numpy as np\n",
        "import torch\n",
        "import torch.nn as nn\n",
        "from gensim import corpora, matutils\n",
        "from google.colab import drive\n",
        "import pandas as pd\n",
        "from torchvision import transforms\n",
        "from torch.utils.data import DataLoader\n",
        "from torch import optim\n",
        "import matplotlib.pyplot as plt\n",
        "\n",
        "# from kmeans_pytorch import kmeans\n",
        "device = torch.device('cuda:0')"
      ],
      "execution_count": null,
      "outputs": []
    },
    {
      "cell_type": "code",
      "metadata": {
        "id": "XL2bof_3O5Oc",
        "outputId": "722634e0-af0a-4407-b6ea-d8cc106a970f",
        "colab": {
          "base_uri": "https://localhost:8080/",
          "height": 54
        }
      },
      "source": [
        "drive.mount('/content/drive')\n",
        "dataframe = pd.read_csv('drive/My Drive/dxboot/test2.csv')\n",
        "dataframe = dataframe.sample(frac=1)\n",
        "lenFrame = len(dataframe)\n",
        "\n",
        "category = dataframe['category'].values.tolist()\n",
        "categoryTest = category[:lenFrame//11]\n",
        "category=category[lenFrame//11:]\n",
        "\n",
        "topic = dataframe['topic'].values.tolist()\n",
        "topicTest = topic[:lenFrame//11]\n",
        "topic = topic[lenFrame//11:]\n",
        "\n",
        "categoryTensor=torch.unsqueeze(torch.tensor(category),1)\n",
        "categoryTestTensor=torch.unsqueeze(torch.tensor(categoryTest),1)\n",
        "\n",
        "# dataloaderを使いたかったが、文字列の関係でテンソルがうまく作れず断念"
      ],
      "execution_count": 103,
      "outputs": [
        {
          "output_type": "stream",
          "text": [
            "Drive already mounted at /content/drive; to attempt to forcibly remount, call drive.mount(\"/content/drive\", force_remount=True).\n"
          ],
          "name": "stdout"
        }
      ]
    },
    {
      "cell_type": "code",
      "metadata": {
        "id": "ZvLmDfLDnsYC"
      },
      "source": [
        "mecab = MeCab.Tagger(\"-Ochasen\")\n",
        "mecab.parse('')\n",
        "\n",
        "def bunkai(contents):\n",
        "    ret = []\n",
        "    for  content in contents:\n",
        "        tmp = bunkaiChi(content)\n",
        "        if not tmp:\n",
        "          print(\"答えと入力がバラバラになってしまうぞ\")\n",
        "          continue\n",
        "        else :\n",
        "          ret.append(tmp)\n",
        "    return ret\n",
        "def bunkaiChi(content):\n",
        "  return [token for token in doMecab(content)]\n",
        "\n",
        "def doMecab(text):\n",
        "  nodes = mecab.parseToNode(text)\n",
        "  while nodes:\n",
        "    if nodes.feature.split(',')[0] == '名詞':\n",
        "      yield nodes.surface.lower()\n",
        "      # 名詞なしの文章のため\n",
        "    elif nodes.feature.split(',')[0] == '動詞':\n",
        "      yield nodes.surface.lower()\n",
        "    nodes = nodes.next\n",
        "\n",
        "# 分解して動詞と名詞だけをリスト化\n",
        "wordlists = bunkai(topic)\n",
        "wordlistsTest = bunkai(topicTest)\n",
        "# 辞書を作成（学習用のデータだけで）\n",
        "jisho = corpora.Dictionary(wordlists)"
      ],
      "execution_count": 104,
      "outputs": []
    },
    {
      "cell_type": "code",
      "metadata": {
        "id": "NsFcvZgVkdS1",
        "outputId": "c6ebc522-ad33-4614-d9b8-1ae9c7bfcdad",
        "colab": {
          "base_uri": "https://localhost:8080/",
          "height": 85
        }
      },
      "source": [
        "# ゆきながせんせいのソースをほとんどまるっと利用。。\n",
        "class RNN(nn.Module):\n",
        "    def __init__(self):\n",
        "        super().__init__()\n",
        "        self.rnn = nn.RNN(  \n",
        "        # self.rnn = nn.LSTM(  \n",
        "            input_size=2,  \n",
        "            hidden_size=128, \n",
        "            batch_first=True, \n",
        "        )\n",
        "        self.fc = nn.Linear(128, 5)  \n",
        "\n",
        "    def forward(self, input):\n",
        "        y_rnn, h = self.rnn(input, None)  \n",
        "        y = self.fc(y_rnn[:, -1, :]) \n",
        "        return y\n",
        "\n",
        "rnn = RNN()\n",
        "print(rnn)"
      ],
      "execution_count": 111,
      "outputs": [
        {
          "output_type": "stream",
          "text": [
            "RNN(\n",
            "  (rnn): RNN(2, 256, batch_first=True)\n",
            "  (fc): Linear(in_features=256, out_features=5, bias=True)\n",
            ")\n"
          ],
          "name": "stdout"
        }
      ]
    },
    {
      "cell_type": "code",
      "metadata": {
        "id": "-Oaw93jkQdgq",
        "outputId": "ac53f965-ff95-4953-d5ef-849068168979",
        "colab": {
          "base_uri": "https://localhost:8080/",
          "height": 326
        }
      },
      "source": [
        "# 分類なので、交差エントロピー誤差\n",
        "lossFn = nn.CrossEntropyLoss()\n",
        "learning_rate = 0.000000005\n",
        "\n",
        "optimizer = optim.SGD(rnn.parameters(), lr=learning_rate)\n",
        "# optimizer = optim.Adam(rnn.parameters(), lr=learning_rate)\n",
        "\n",
        "loss_train = 0\n",
        "record_loss_train = []\n",
        "record_loss_test = []\n",
        "\n",
        "# オンライン学習\n",
        "rnn.train() \n",
        "for i, word in enumerate(wordlists):\n",
        "  data = torch.tensor(jisho.doc2bow(word))\n",
        "  data = torch.unsqueeze(data, 0)\n",
        "  rnn.zero_grad()\n",
        "  input_data = torch.tensor(data, dtype=torch.float)\n",
        "  output = rnn(input_data)\n",
        "  answer = categoryTensor[i]\n",
        "  loss = lossFn(output, answer)\n",
        "  optimizer.zero_grad()\n",
        "  loss.backward()\n",
        "  optimizer.step()\n",
        "\n",
        "  loss_train += loss.item()\n",
        "  loss_train /= i+1\n",
        "  record_loss_train.append(loss_train)\n",
        "  if i%500==0:\n",
        "    print(\"Epoch:\", i, \"Loss_Train:\", loss_train)\n",
        "print(\"Epoch:\", i, \"Loss_Train:\", loss_train)\n",
        "\n",
        "rnn.eval()  # 評価モード\n",
        "loss_test = 0\n",
        "correct = 0\n",
        "for i, word in enumerate(wordlistsTest):\n",
        "  data = torch.tensor(jisho.doc2bow(word,allow_update=True))\n",
        "  data = torch.tensor(torch.unsqueeze(data, 0), dtype=torch.float)\n",
        "  y = rnn(data)\n",
        "  t = categoryTestTensor[i]\n",
        "  loss = lossFn(y, t)\n",
        "  loss_test += loss.item()\n",
        "  loss_test /= i+1\n",
        "  if y.argmax(1)==t:\n",
        "    correct += 1\n",
        "  if i%100==0:\n",
        "    print(\"Epoch:\", i, \"Loss_Train:\", loss_test)\n",
        "\n",
        "record_loss_test.append(loss_test)\n",
        "print( \"Loss_Train:\", loss_train, \"Loss_Test:\", loss_test)\n",
        "print(\"正解率:\", str(correct/len(wordlistsTest)*100) + \"%\")\n"
      ],
      "execution_count": 112,
      "outputs": [
        {
          "output_type": "stream",
          "text": [
            "/usr/local/lib/python3.6/dist-packages/ipykernel_launcher.py:18: UserWarning: To copy construct from a tensor, it is recommended to use sourceTensor.clone().detach() or sourceTensor.clone().detach().requires_grad_(True), rather than torch.tensor(sourceTensor).\n"
          ],
          "name": "stderr"
        },
        {
          "output_type": "stream",
          "text": [
            "Epoch: 0 Loss_Train: 1.5715209245681763\n",
            "Epoch: 500 Loss_Train: 0.0034666184675858545\n",
            "Epoch: 1000 Loss_Train: 0.001415022463674866\n",
            "Epoch: 1500 Loss_Train: 0.0012374330080726817\n",
            "Epoch: 2000 Loss_Train: 0.0007065215085917685\n",
            "Epoch: 2500 Loss_Train: 0.0006932703240554199\n",
            "Epoch: 3000 Loss_Train: 0.0006377208155522941\n",
            "Epoch: 3500 Loss_Train: 0.0005484430208228747\n",
            "Epoch: 3884 Loss_Train: 0.000332069424019336\n",
            "Epoch: 0 Loss_Train: 1.9200783967971802\n",
            "Epoch: 100 Loss_Train: 0.01827489517161811\n",
            "Epoch: 200 Loss_Train: 0.007056404579875747\n",
            "Epoch: 300 Loss_Train: 0.004311867734162326\n"
          ],
          "name": "stdout"
        },
        {
          "output_type": "stream",
          "text": [
            "/usr/local/lib/python3.6/dist-packages/ipykernel_launcher.py:38: UserWarning: To copy construct from a tensor, it is recommended to use sourceTensor.clone().detach() or sourceTensor.clone().detach().requires_grad_(True), rather than torch.tensor(sourceTensor).\n"
          ],
          "name": "stderr"
        },
        {
          "output_type": "stream",
          "text": [
            "Loss_Train: 0.000332069424019336 Loss_Test: 0.003338062160186176\n",
            "正解率: 18.04123711340206%\n"
          ],
          "name": "stdout"
        }
      ]
    },
    {
      "cell_type": "code",
      "metadata": {
        "id": "k4cw0lnNgORc",
        "outputId": "8f00c42d-d0a1-44a9-cda2-9b3a5c7a105c",
        "colab": {
          "base_uri": "https://localhost:8080/",
          "height": 68
        }
      },
      "source": [
        "print(total)\n",
        "print(correct)\n",
        "print(\"正解率:\", str(correct/total*100) + \"%\")\n",
        "# 3:1のときは正解率が19%程度\n",
        "# 7:1のときは21、10:1のときは24%\n",
        "# LSTMにしてみても大して変わらず"
      ],
      "execution_count": 107,
      "outputs": [
        {
          "output_type": "stream",
          "text": [
            "387\n",
            "62\n",
            "正解率: 16.020671834625322%\n"
          ],
          "name": "stdout"
        }
      ]
    },
    {
      "cell_type": "code",
      "metadata": {
        "id": "fB-UGAIZtTVD",
        "outputId": "a7eace5a-e4f2-428f-9d61-c5d80a47dc33",
        "colab": {
          "base_uri": "https://localhost:8080/",
          "height": 279
        }
      },
      "source": [
        "\n",
        "plt.plot(range(len(record_loss_train)), record_loss_train, label=\"Train\")\n",
        "plt.plot(range(len(record_loss_test)), record_loss_test, label=\"Test\")\n",
        "plt.legend()\n",
        "\n",
        "plt.xlabel(\"Epochs\")\n",
        "plt.ylabel(\"Error\")\n",
        "plt.show()"
      ],
      "execution_count": 108,
      "outputs": [
        {
          "output_type": "display_data",
          "data": {
            "image/png": "[encoded data removed]",
            "text/plain": [
              "<Figure size 432x288 with 1 Axes>"
            ]
          },
          "metadata": {
            "tags": [],
            "needs_background": "light"
          }
        }
      ]
    }
  ]
}