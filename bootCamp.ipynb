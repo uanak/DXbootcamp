{
  "nbformat": 4,
  "nbformat_minor": 0,
  "metadata": {
    "colab": {
      "name": "bootCamp.ipynb",
      "provenance": [],
      "collapsed_sections": [],
      "authorship_tag": "ABX9TyMiDg+AEV/38BQ51CVnp+Tr",
      "include_colab_link": true
    },
    "kernelspec": {
      "name": "python3",
      "display_name": "Python 3"
    }
  },
  "cells": [
    {
      "cell_type": "markdown",
      "metadata": {
        "id": "view-in-github",
        "colab_type": "text"
      },
      "source": [
        "<a href=\"https://colab.research.google.com/github/uanak/DXbootcamp/blob/main/bootCamp.ipynb\" target=\"_parent\"><img src=\"https://colab.research.google.com/assets/colab-badge.svg\" alt=\"Open In Colab\"/></a>"
      ]
    },
    {
      "cell_type": "code",
      "metadata": {
        "id": "3tIWqUETfXad"
      },
      "source": [
        "!apt install aptitude\n",
        "!aptitude install mecab libmecab-dev mecab-ipadic-utf8 git make curl xz-utils file -y\n",
        "!pip install mecab-python3==0.7\n",
        "\n",
        "import MeCab\n",
        "import pytorch\n"
      ],
      "execution_count": null,
      "outputs": []
    },
    {
      "cell_type": "code",
      "metadata": {
        "id": "ZvLmDfLDnsYC",
        "outputId": "6a9b329b-7f0f-45f1-d2ce-269fb76071ff",
        "colab": {
          "base_uri": "https://localhost:8080/",
          "height": 34
        }
      },
      "source": [
        "mecab = MeCab.Tagger(\"-Ochasen\")\n",
        "# おまじない\n",
        "mecab.parse('')\n",
        "\n",
        "def bunkai(contents):\n",
        "    ret = []\n",
        "    for  content in contents:\n",
        "        ret.append(bunkaiChi(content))\n",
        "    return ret\n",
        "\n",
        "def bunkaiChi(content):\n",
        "  return [token for token in doMecab(content)]\n",
        "\n",
        "def doMecab(text):\n",
        "  # ここでmecabのノードクラスに分解して格納\n",
        "  nodes = mecab.parseToNode(text)\n",
        "  while nodes:\n",
        "    if nodes.feature.split(',')[0] == '名詞':\n",
        "      yield nodes.surface.lower()\n",
        "    nodes = nodes.next\n",
        "\n",
        "\n",
        "test1 = [\"私の好きな天気は雨です\",\"意味がわからないこともだんだんわかると嬉しい\"]\n",
        "wordlist = bunkai(test1)\n",
        "print(wordlist)"
      ],
      "execution_count": 29,
      "outputs": [
        {
          "output_type": "stream",
          "text": [
            "[['私', '好き', '天気', '雨'], ['意味', 'こと']]\n"
          ],
          "name": "stdout"
        }
      ]
    },
    {
      "cell_type": "code",
      "metadata": {
        "id": "1Yqw-4C5g4fY"
      },
      "source": [
        "test = [\"a\",\"b\"]\n",
        "while test:\n",
        "  print (test)\n",
        "  test = test.next"
      ],
      "execution_count": null,
      "outputs": []
    },
    {
      "cell_type": "code",
      "metadata": {
        "id": "UwuR7JJ6i4cs",
        "outputId": "b691986b-d240-444c-92c5-3ef2a8bcdce6",
        "colab": {
          "base_uri": "https://localhost:8080/",
          "height": 221
        }
      },
      "source": [
        "def test(aaa):\n",
        "  aaaa = mecab.parse(aaa)\n",
        "  return aaaa\n",
        "\n",
        "aa =test(\"私の好きなお酒はラム酒です\")\n",
        "\n",
        "print(aa)"
      ],
      "execution_count": 18,
      "outputs": [
        {
          "output_type": "stream",
          "text": [
            "私\tワタシ\t私\t名詞-代名詞-一般\t\t\n",
            "の\tノ\tの\t助詞-連体化\t\t\n",
            "好き\tスキ\t好き\t名詞-形容動詞語幹\t\t\n",
            "な\tナ\tだ\t助動詞\t特殊・ダ\t体言接続\n",
            "お\tオ\tお\t接頭詞-名詞接続\t\t\n",
            "酒\tサケ\t酒\t名詞-一般\t\t\n",
            "は\tハ\tは\t助詞-係助詞\t\t\n",
            "ラム\tラム\tラム\t名詞-一般\t\t\n",
            "酒\tシュ\t酒\t名詞-接尾-一般\t\t\n",
            "です\tデス\tです\t助動詞\t特殊・デス\t基本形\n",
            "EOS\n",
            "\n"
          ],
          "name": "stdout"
        }
      ]
    }
  ]
}