{
  "nbformat": 4,
  "nbformat_minor": 0,
  "metadata": {
    "colab": {
      "name": "bootCamp.ipynb",
      "provenance": [],
      "collapsed_sections": [],
      "authorship_tag": "ABX9TyOUjiQBmNk4hAyLvSVJsRvT",
      "include_colab_link": true
    },
    "kernelspec": {
      "name": "python3",
      "display_name": "Python 3"
    }
  },
  "cells": [
    {
      "cell_type": "markdown",
      "metadata": {
        "id": "view-in-github",
        "colab_type": "text"
      },
      "source": [
        "<a href=\"https://colab.research.google.com/github/uanak/DXbootcamp/blob/main/bootCamp.ipynb\" target=\"_parent\"><img src=\"https://colab.research.google.com/assets/colab-badge.svg\" alt=\"Open In Colab\"/></a>"
      ]
    },
    {
      "cell_type": "markdown",
      "metadata": {
        "id": "U0Q_DUOe42oO"
      },
      "source": [
        "各種インストール\n",
        "mecab(要素解析）,pytorch,kmeans（クラスタ）"
      ]
    },
    {
      "cell_type": "code",
      "metadata": {
        "id": "3tIWqUETfXad"
      },
      "source": [
        "!apt install aptitude\n",
        "!aptitude install mecab libmecab-dev mecab-ipadic-utf8 git make curl xz-utils file -y\n",
        "!pip install mecab-python3==0.7\n",
        "!pip install -U torch torchvision\n",
        "!pip install kmeans-pytorch\n",
        "\n",
        "import MeCab\n",
        "import numpy as np\n",
        "import torch\n",
        "import torch.nn as nn\n",
        "from gensim import corpora, matutils\n",
        "from google.colab import drive\n",
        "import pandas as pd\n",
        "from torchvision import transforms\n",
        "from torch.utils.data import DataLoader\n",
        "from torch import optim\n",
        "import matplotlib.pyplot as plt\n",
        "\n",
        "# from kmeans_pytorch import kmeans\n",
        "device = torch.device('cuda:0')"
      ],
      "execution_count": null,
      "outputs": []
    },
    {
      "cell_type": "code",
      "metadata": {
        "id": "XL2bof_3O5Oc",
        "outputId": "0bd6d06e-ae09-4de5-a44a-420b678dc5b2",
        "colab": {
          "base_uri": "https://localhost:8080/",
          "height": 54
        }
      },
      "source": [
        "drive.mount('/content/drive')\n",
        "dataframe = pd.read_csv('drive/My Drive/dxboot/test2.csv')\n",
        "dataframe = dataframe.sample(frac=1)\n",
        "lenFrame = len(dataframe)\n",
        "\n",
        "category = dataframe['category'].values.tolist()\n",
        "categoryTest = category[:lenFrame//11]\n",
        "category=category[lenFrame//11:]\n",
        "\n",
        "topic = dataframe['topic'].values.tolist()\n",
        "topicTest = topic[:lenFrame//11]\n",
        "topic = topic[lenFrame//11:]\n",
        "\n",
        "categoryTensor=torch.unsqueeze(torch.tensor(category),1)\n",
        "categoryTestTensor=torch.unsqueeze(torch.tensor(categoryTest),1)\n",
        "\n",
        "# dataloaderを使いたかったが、文字列の関係でテンソルがうまく作れず断念"
      ],
      "execution_count": 79,
      "outputs": [
        {
          "output_type": "stream",
          "text": [
            "Drive already mounted at /content/drive; to attempt to forcibly remount, call drive.mount(\"/content/drive\", force_remount=True).\n"
          ],
          "name": "stdout"
        }
      ]
    },
    {
      "cell_type": "code",
      "metadata": {
        "id": "ZvLmDfLDnsYC"
      },
      "source": [
        "mecab = MeCab.Tagger(\"-Ochasen\")\n",
        "mecab.parse('')\n",
        "\n",
        "def bunkai(contents):\n",
        "    ret = []\n",
        "    for  content in contents:\n",
        "        tmp = bunkaiChi(content)\n",
        "        if not tmp:\n",
        "          print(\"答えと入力がバラバラになってしまうぞ\")\n",
        "          continue\n",
        "        else :\n",
        "          ret.append(tmp)\n",
        "    return ret\n",
        "def bunkaiChi(content):\n",
        "  return [token for token in doMecab(content)]\n",
        "\n",
        "def doMecab(text):\n",
        "  nodes = mecab.parseToNode(text)\n",
        "  while nodes:\n",
        "    if nodes.feature.split(',')[0] == '名詞':\n",
        "      yield nodes.surface.lower()\n",
        "      # 名詞なしの文章のため\n",
        "    elif nodes.feature.split(',')[0] == '動詞':\n",
        "      yield nodes.surface.lower()\n",
        "    nodes = nodes.next\n",
        "\n",
        "# 分解して動詞と名詞だけをリスト化\n",
        "wordlists = bunkai(topic)\n",
        "wordlistsTest = bunkai(topicTest)\n",
        "# 辞書を作成（学習用のデータだけで）\n",
        "jisho = corpora.Dictionary(wordlists)"
      ],
      "execution_count": 80,
      "outputs": []
    },
    {
      "cell_type": "code",
      "metadata": {
        "id": "NsFcvZgVkdS1",
        "outputId": "7d8fe3bb-c437-4961-ea79-a29c356ee15c",
        "colab": {
          "base_uri": "https://localhost:8080/",
          "height": 85
        }
      },
      "source": [
        "# ゆきながせんせいのソースをほとんどまるっと利用。。\n",
        "class RNN(nn.Module):\n",
        "    def __init__(self):\n",
        "        super().__init__()\n",
        "        self.rnn = nn.RNN(  \n",
        "            input_size=2,  \n",
        "            hidden_size=128, \n",
        "            batch_first=True, \n",
        "        )\n",
        "        self.fc = nn.Linear(128, 5)  \n",
        "\n",
        "    def forward(self, input):\n",
        "        y_rnn, h = self.rnn(input, None)  \n",
        "        y = self.fc(y_rnn[:, -1, :]) \n",
        "        return y\n",
        "\n",
        "rnn = RNN()\n",
        "print(rnn)"
      ],
      "execution_count": 86,
      "outputs": [
        {
          "output_type": "stream",
          "text": [
            "RNN(\n",
            "  (rnn): RNN(2, 128, batch_first=True)\n",
            "  (fc): Linear(in_features=128, out_features=5, bias=True)\n",
            ")\n"
          ],
          "name": "stdout"
        }
      ]
    },
    {
      "cell_type": "code",
      "metadata": {
        "id": "-Oaw93jkQdgq",
        "outputId": "c7ad4423-0641-4015-a6c1-30ab4018a1fd",
        "colab": {
          "base_uri": "https://localhost:8080/",
          "height": 343
        }
      },
      "source": [
        "# 分類なので、交差エントロピー誤差\n",
        "lossFn = nn.CrossEntropyLoss()\n",
        "learning_rate = 0.000005\n",
        "\n",
        "optimizer = optim.SGD(rnn.parameters(), lr=learning_rate)\n",
        "\n",
        "loss_train = 0\n",
        "record_loss_train = []\n",
        "record_loss_test = []\n",
        "\n",
        "# オンライン学習\n",
        "for i, word in enumerate(wordlists):\n",
        "  rnn.train() \n",
        "  data = torch.tensor(jisho.doc2bow(word))\n",
        "  data = torch.unsqueeze(data, 0)\n",
        "  rnn.zero_grad()\n",
        "  input_data = torch.tensor(data, dtype=torch.float)\n",
        "  output = rnn(input_data)\n",
        "  answer = categoryTensor[i]\n",
        "  loss = lossFn(output, answer)\n",
        "  loss_train += loss.item()\n",
        "  optimizer.zero_grad()\n",
        "  loss.backward()\n",
        "  optimizer.step()\n",
        "  loss_train /= i+1\n",
        "  record_loss_train.append(loss_train)\n",
        "  if i%500==0:\n",
        "    print(\"Epoch:\", i, \"Loss_Train:\", loss_train)\n",
        "print(\"Epoch:\", i, \"Loss_Train:\", loss_train)\n",
        "\n",
        "rnn.eval()  # 評価モード\n",
        "loss_test = 0\n",
        "correct = 0\n",
        "total = 0\n",
        "for i, word in enumerate(wordlistsTest):\n",
        "  data = torch.tensor(jisho.doc2bow(word,allow_update=True))\n",
        "  data = torch.tensor(torch.unsqueeze(data, 0), dtype=torch.float)\n",
        "  y = rnn(data)\n",
        "  t = categoryTestTensor[i]\n",
        "  loss = lossFn(y, t)\n",
        "  loss_test += loss.item()\n",
        "  loss_test /= i+1\n",
        "  if y.argmax(1)==t:\n",
        "    correct += 1\n",
        "  if i == len(wordlistsTest)-1:\n",
        "    print(\"i\")\n",
        "    total = i\n",
        "  if i%100==0:\n",
        "    print(\"Epoch:\", i, \"Loss_Train:\", loss_test)\n",
        "\n",
        "record_loss_test.append(loss_test)\n",
        "print( \"Loss_Train:\", loss_train, \"Loss_Test:\", loss_test)\n",
        "print(\"正解率:\", str(correct/total*100) + \"%\")\n"
      ],
      "execution_count": 87,
      "outputs": [
        {
          "output_type": "stream",
          "text": [
            "/usr/local/lib/python3.6/dist-packages/ipykernel_launcher.py:17: UserWarning: To copy construct from a tensor, it is recommended to use sourceTensor.clone().detach() or sourceTensor.clone().detach().requires_grad_(True), rather than torch.tensor(sourceTensor).\n"
          ],
          "name": "stderr"
        },
        {
          "output_type": "stream",
          "text": [
            "Epoch: 0 Loss_Train: 1.4057461023330688\n",
            "Epoch: 500 Loss_Train: 0.0023061279873305644\n",
            "Epoch: 1000 Loss_Train: 0.0017786610302890232\n",
            "Epoch: 1500 Loss_Train: 0.0015951189450699977\n",
            "Epoch: 2000 Loss_Train: 0.0006065226416167761\n",
            "Epoch: 2500 Loss_Train: 0.0005235712908449495\n",
            "Epoch: 3000 Loss_Train: 0.00044349664562192125\n",
            "Epoch: 3500 Loss_Train: 0.0005105454076947977\n",
            "Epoch: 3884 Loss_Train: 0.0004591303367807415\n",
            "Epoch: 0 Loss_Train: 2.187840461730957\n",
            "Epoch: 100 Loss_Train: 0.0177795072973951\n",
            "Epoch: 200 Loss_Train: 0.008923894490941366\n",
            "Epoch: 300 Loss_Train: 0.005582933294614719\n"
          ],
          "name": "stdout"
        },
        {
          "output_type": "stream",
          "text": [
            "/usr/local/lib/python3.6/dist-packages/ipykernel_launcher.py:37: UserWarning: To copy construct from a tensor, it is recommended to use sourceTensor.clone().detach() or sourceTensor.clone().detach().requires_grad_(True), rather than torch.tensor(sourceTensor).\n"
          ],
          "name": "stderr"
        },
        {
          "output_type": "stream",
          "text": [
            "i\n",
            "Loss_Train: 0.0004591303367807415 Loss_Test: 0.0033275600846168923\n",
            "正解率: 20.930232558139537%\n"
          ],
          "name": "stdout"
        }
      ]
    },
    {
      "cell_type": "code",
      "metadata": {
        "id": "k4cw0lnNgORc",
        "outputId": "d38d70f8-c397-4e70-c217-f9bed921bc78",
        "colab": {
          "base_uri": "https://localhost:8080/",
          "height": 68
        }
      },
      "source": [
        "print(total)\n",
        "print(correct)\n",
        "print(\"正解率:\", str(correct/total*100) + \"%\")\n",
        "# 3:1のときは正解率が19%程度\n",
        "# 7:1のときは21、10:1のときは24%"
      ],
      "execution_count": 88,
      "outputs": [
        {
          "output_type": "stream",
          "text": [
            "387\n",
            "81\n",
            "正解率: 20.930232558139537%\n"
          ],
          "name": "stdout"
        }
      ]
    },
    {
      "cell_type": "code",
      "metadata": {
        "id": "fB-UGAIZtTVD",
        "outputId": "5daaa2dd-4b89-4e25-dbd8-7b2996f28a42",
        "colab": {
          "base_uri": "https://localhost:8080/",
          "height": 282
        }
      },
      "source": [
        "\n",
        "plt.plot(range(len(record_loss_train)), record_loss_train, label=\"Train\")\n",
        "plt.plot(range(len(record_loss_test)), record_loss_test, label=\"Test\")\n",
        "plt.legend()\n",
        "\n",
        "plt.xlabel(\"Epochs\")\n",
        "plt.ylabel(\"Error\")\n",
        "plt.show()"
      ],
      "execution_count": 84,
      "outputs": [
        {
          "output_type": "display_data",
          "data": {
            "image/png": "[encoded data removed]",
            "text/plain": [
              "<Figure size 432x288 with 1 Axes>"
            ]
          },
          "metadata": {
            "tags": [],
            "needs_background": "light"
          }
        }
      ]
    }
  ]
}